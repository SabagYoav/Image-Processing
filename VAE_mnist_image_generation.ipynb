{
  "nbformat": 4,
  "nbformat_minor": 0,
  "metadata": {
    "colab": {
      "provenance": [],
      "gpuType": "T4",
      "authorship_tag": "ABX9TyMVwcQOBJ1GCUvFxJOfEOoP",
      "include_colab_link": true
    },
    "kernelspec": {
      "name": "python3",
      "display_name": "Python 3"
    },
    "language_info": {
      "name": "python"
    },
    "accelerator": "GPU"
  },
  "cells": [
    {
      "cell_type": "markdown",
      "metadata": {
        "id": "view-in-github",
        "colab_type": "text"
      },
      "source": [
        "<a href=\"https://colab.research.google.com/github/Yoavvvvvv/Image-Processing/blob/main/VAE_mnist_image_generation.ipynb\" target=\"_parent\"><img src=\"https://colab.research.google.com/assets/colab-badge.svg\" alt=\"Open In Colab\"/></a>"
      ]
    },
    {
      "cell_type": "code",
      "execution_count": null,
      "metadata": {
        "id": "tz2fVhredu0F"
      },
      "outputs": [],
      "source": [
        "from keras.layers import Input, Dense, Lambda, Reshape\n",
        "from keras.models import Model\n",
        "from keras.losses import mse\n",
        "from keras import backend as K\n",
        "import numpy as np"
      ]
    },
    {
      "cell_type": "code",
      "source": [
        "import numpy as np\n",
        "import matplotlib.pyplot as plt\n",
        "import tensorflow as tf\n",
        "from tensorflow.keras.datasets import mnist\n",
        "from tensorflow import keras\n",
        "import keras.backend as K\n",
        "from tensorflow.keras.layers import Input, Dense, Lambda\n",
        "from tensorflow.keras.layers import Flatten, Reshape\n",
        "from tensorflow.keras.layers import BatchNormalization, Dropout"
      ],
      "metadata": {
        "id": "8gV4eWa9lQyu"
      },
      "execution_count": null,
      "outputs": []
    },
    {
      "cell_type": "code",
      "source": [
        "(x_train, y_train), (x_test, y_test) = mnist.load_data()\n",
        "\n",
        "#Normalize the data\n",
        "x_train = x_train / 255\n",
        "x_test = x_test / 255\n",
        "\n",
        "#reshaping the images to (28,28)\n",
        "x_train = np.reshape(x_train, (len(x_train), 28, 28, 1))\n",
        "x_test = np.reshape(x_test, (len(x_test), 28, 28, 1))"
      ],
      "metadata": {
        "colab": {
          "base_uri": "https://localhost:8080/"
        },
        "id": "cYiC5hYFrpQy",
        "outputId": "6cb58590-2df0-4c0e-aaa6-0f60074a6533"
      },
      "execution_count": null,
      "outputs": [
        {
          "output_type": "stream",
          "name": "stdout",
          "text": [
            "Downloading data from https://storage.googleapis.com/tensorflow/tf-keras-datasets/mnist.npz\n",
            "11490434/11490434 [==============================] - 0s 0us/step\n"
          ]
        }
      ]
    },
    {
      "cell_type": "code",
      "source": [
        "print(\"x_train.shape: \", x_train.shape)\n",
        "print(\"x_test.shape: \", x_test.shape)"
      ],
      "metadata": {
        "colab": {
          "base_uri": "https://localhost:8080/"
        },
        "id": "3K_3JL7druaE",
        "outputId": "6b2ecfaa-a9a2-44b9-b0d2-4ba256888f3c"
      },
      "execution_count": null,
      "outputs": [
        {
          "output_type": "stream",
          "name": "stdout",
          "text": [
            "x_train.shape:  (60000, 28, 28, 1)\n",
            "x_test.shape:  (10000, 28, 28, 1)\n"
          ]
        }
      ]
    },
    {
      "cell_type": "code",
      "source": [
        "batch_size = 60"
      ],
      "metadata": {
        "id": "-WxfG3AzlXeC"
      },
      "execution_count": null,
      "outputs": []
    },
    {
      "cell_type": "code",
      "source": [
        "def vae_loss(x, y):\n",
        "    x = K.reshape(x, shape=(batch_size, 28*28))\n",
        "    y = K.reshape(y, shape=(batch_size, 28*28))\n",
        "    loss = K.sum(K.square(x-y), axis=-1)\n",
        "    kl_loss = -0.5 * K.sum(1 + log_var - K.square(mean) - K.exp(log_var), axis=-1)\n",
        "    return loss + kl_loss"
      ],
      "metadata": {
        "id": "2m3UYkQhl5qE"
      },
      "execution_count": null,
      "outputs": []
    },
    {
      "cell_type": "code",
      "source": [
        "def noiser(args):\n",
        "    global mean, log_var\n",
        "    mean, log_var = args\n",
        "    N = K.random_normal(shape=(batch_size, hidden_dim), mean=0., stddev=1.0)\n",
        "    return K.exp(log_var / 2) * N + mean"
      ],
      "metadata": {
        "id": "lhBhVy45mGci"
      },
      "execution_count": null,
      "outputs": []
    },
    {
      "cell_type": "markdown",
      "source": [
        "##Variational autoencoder"
      ],
      "metadata": {
        "id": "tsCkAHqpmPZB"
      }
    },
    {
      "cell_type": "code",
      "source": [
        "input_shape = (28, 28, 3)\n",
        "hidden_dim = 100"
      ],
      "metadata": {
        "id": "VmqJOIblmKw4"
      },
      "execution_count": null,
      "outputs": []
    },
    {
      "cell_type": "code",
      "source": [
        "# Encoder\n",
        "input_image = Input(batch_shape=(batch_size, 28, 28, 1))\n",
        "x = Flatten()(input_image)\n",
        "x = Dense(256, activation=\"relu\")(x)\n",
        "x = Dropout(0.3)(BatchNormalization()(x))\n",
        "x = Dense(128, activation=\"relu\")(x)\n",
        "x = Dropout(0.3)(BatchNormalization()(x))"
      ],
      "metadata": {
        "id": "3daTY5iimMF0"
      },
      "execution_count": null,
      "outputs": []
    },
    {
      "cell_type": "code",
      "source": [
        "# Define the mean and log-variance layers\n",
        "mean = Dense(hidden_dim)(x)\n",
        "log_var = Dense(hidden_dim)(x)\n",
        "h = Lambda(noiser, output_shape=(hidden_dim), name=\"latent_space\")([mean, log_var])"
      ],
      "metadata": {
        "id": "fJJEV7L9mN8y"
      },
      "execution_count": null,
      "outputs": []
    },
    {
      "cell_type": "code",
      "source": [
        "input_decoder = Input(shape=(hidden_dim,))\n",
        "d = Dense(128, activation=\"relu\")(input_decoder)\n",
        "d = Dropout(0.3)(BatchNormalization()(d))\n",
        "d = Dense(256, activation=\"relu\")(d)\n",
        "d = Dropout(0.3)(BatchNormalization()(d))\n",
        "d = Dense(28*28, activation=\"sigmoid\")(d)\n",
        "decoded = Reshape((28, 28, 1))(d)"
      ],
      "metadata": {
        "id": "zgKxVo18mY-G"
      },
      "execution_count": null,
      "outputs": []
    },
    {
      "cell_type": "code",
      "source": [
        "encoder = keras.Model(input_image, h, name=\"encoder\")\n",
        "decoder = keras.Model(input_decoder, decoded, name=\"decoder\")\n",
        "vae = keras.Model(input_image, decoder(encoder(input_image)), name=\"vae\")\n",
        "vae.compile(optimizer=\"adam\", loss=vae_loss)\n",
        "vae.summary()"
      ],
      "metadata": {
        "colab": {
          "base_uri": "https://localhost:8080/"
        },
        "id": "DQ1HzDRAmnig",
        "outputId": "fbffb1b1-d006-4ed7-f927-75651bcc01cf"
      },
      "execution_count": null,
      "outputs": [
        {
          "output_type": "stream",
          "name": "stdout",
          "text": [
            "Model: \"vae\"\n",
            "_________________________________________________________________\n",
            " Layer (type)                Output Shape              Param #   \n",
            "=================================================================\n",
            " input_1 (InputLayer)        [(60, 28, 28, 1)]         0         \n",
            "                                                                 \n",
            " encoder (Functional)        (60, 100)                 261192    \n",
            "                                                                 \n",
            " decoder (Functional)        (None, 28, 28, 1)         248976    \n",
            "                                                                 \n",
            "=================================================================\n",
            "Total params: 510168 (1.95 MB)\n",
            "Trainable params: 508632 (1.94 MB)\n",
            "Non-trainable params: 1536 (6.00 KB)\n",
            "_________________________________________________________________\n"
          ]
        }
      ]
    },
    {
      "cell_type": "code",
      "source": [
        "epochs = 25\n",
        "\n",
        "history = vae.fit(x_train, x_train, epochs=epochs, batch_size=batch_size, shuffle=True)"
      ],
      "metadata": {
        "id": "kY3jEPQQmr9F"
      },
      "execution_count": null,
      "outputs": []
    },
    {
      "cell_type": "code",
      "source": [
        "decoded_imgs = decoder.predict(h, batch_size=batch_size)"
      ],
      "metadata": {
        "colab": {
          "base_uri": "https://localhost:8080/"
        },
        "id": "i10AAD3rt6uh",
        "outputId": "53900824-a90f-4a41-8e00-5d2b59987ba4"
      },
      "execution_count": null,
      "outputs": [
        {
          "output_type": "stream",
          "name": "stdout",
          "text": [
            "50/50 [==============================] - 0s 2ms/step\n"
          ]
        }
      ]
    },
    {
      "cell_type": "code",
      "source": [
        "def generate_images(vae, num_images):\n",
        "    # Sample random points from the latent space\n",
        "    latent_points = np.random.normal(size=(num_images, latent_dim))  # Assuming latent_dim is the dimensionality of the latent space\n",
        "\n",
        "    # Decode the latent points into images\n",
        "    decoded_images = vae.decoder.predict(latent_points)\n",
        "\n",
        "    return decoded_images\n",
        "\n",
        "# Generate new images using the trained VAE\n",
        "num_images_to_generate = 10  # Specify the number of images to generate\n",
        "generated_images = generate_images(vae, num_images_to_generate)\n",
        "\n",
        "# Display the generated images\n",
        "import matplotlib.pyplot as plt\n",
        "\n",
        "plt.figure(figsize=(10, 2))\n",
        "for i in range(num_images_to_generate):\n",
        "    plt.subplot(1, num_images_to_generate, i+1)\n",
        "    plt.imshow(generated_images[i].reshape(28, 28), cmap='gray')\n",
        "    plt.axis('off')\n",
        "plt.show()"
      ],
      "metadata": {
        "colab": {
          "base_uri": "https://localhost:8080/",
          "height": 406
        },
        "id": "Kv1Mtq3-s10P",
        "outputId": "b5105c12-4244-4f46-c759-851ef9b063f4"
      },
      "execution_count": null,
      "outputs": [
        {
          "output_type": "display_data",
          "data": {
            "text/plain": [
              "<Figure size 640x480 with 1 Axes>"
            ],
            "image/png": "[encoded data removed]"
          },
          "metadata": {}
        }
      ]
    },
    {
      "cell_type": "code",
      "source": [
        "decoded_imgs[0].shape"
      ],
      "metadata": {
        "colab": {
          "base_uri": "https://localhost:8080/"
        },
        "id": "KZpBg4UuufU8",
        "outputId": "feffbeac-711a-4eb6-f5f0-5f30e27581e1"
      },
      "execution_count": null,
      "outputs": [
        {
          "output_type": "execute_result",
          "data": {
            "text/plain": [
              "(28, 28, 1)"
            ]
          },
          "metadata": {},
          "execution_count": 18
        }
      ]
    },
    {
      "cell_type": "code",
      "source": [
        "plt.imshow(x_test[0])\n",
        "plt.axis('off')\n",
        "plt.show()"
      ],
      "metadata": {
        "colab": {
          "base_uri": "https://localhost:8080/",
          "height": 406
        },
        "id": "MLOhC_Dlu9-D",
        "outputId": "4ef0b709-87a4-4391-a8f2-4e1ae3bb327a"
      },
      "execution_count": null,
      "outputs": [
        {
          "output_type": "display_data",
          "data": {
            "text/plain": [
              "<Figure size 640x480 with 1 Axes>"
            ],
            "image/png": "[encoded data removed]"
          },
          "metadata": {}
        }
      ]
    },
    {
      "cell_type": "markdown",
      "source": [
        "#VEA classification"
      ],
      "metadata": {
        "id": "aDkv5KBu72l8"
      }
    },
    {
      "cell_type": "markdown",
      "source": [
        "### Generating new images from random point in the latent space"
      ],
      "metadata": {
        "id": "gOGLQlkd025I"
      }
    },
    {
      "cell_type": "code",
      "source": [
        "encoded_data= encoder.predict(x_test[:3000], batch_size=batch_size)"
      ],
      "metadata": {
        "colab": {
          "base_uri": "https://localhost:8080/"
        },
        "id": "fT2a54rIs_XK",
        "outputId": "c4388df3-b444-4983-db83-3db9755349a5"
      },
      "execution_count": null,
      "outputs": [
        {
          "output_type": "stream",
          "name": "stdout",
          "text": [
            "50/50 [==============================] - 0s 2ms/step\n"
          ]
        }
      ]
    },
    {
      "cell_type": "code",
      "source": [
        "plt.figure(figsize=(5, 5))\n",
        "plt.scatter(encoded_data[:,0], encoded_data[:,1], cmap='brg')\n",
        "plt.colorbar()\n",
        "plt.show()"
      ],
      "metadata": {
        "colab": {
          "base_uri": "https://localhost:8080/",
          "height": 486
        },
        "id": "cctcTZ_21xSJ",
        "outputId": "4a991e17-ea75-4364-df98-25f6e4e70fb7"
      },
      "execution_count": null,
      "outputs": [
        {
          "output_type": "stream",
          "name": "stderr",
          "text": [
            "<ipython-input-43-0859cb7bc420>:2: UserWarning: No data for colormapping provided via 'c'. Parameters 'cmap' will be ignored\n",
            "  plt.scatter(encoded_data[:,0], encoded_data[:,1], cmap='brg')\n"
          ]
        },
        {
          "output_type": "display_data",
          "data": {
            "text/plain": [
              "<Figure size 500x500 with 2 Axes>"
            ],
            "image/png": "[encoded data removed]"
          },
          "metadata": {}
        }
      ]
    },
    {
      "cell_type": "code",
      "source": [
        "def generate_images(vae, num_images):\n",
        "    latent_points = np.random.normal(size=(num_images, hidden_dim))  # Assuming latent_dim is the dimensionality of the latent space\n",
        "    decoded_images = decoder.predict(latent_points)\n",
        "\n",
        "    return decoded_images, latent_points"
      ],
      "metadata": {
        "id": "n2Ym6uB70g08"
      },
      "execution_count": null,
      "outputs": []
    },
    {
      "cell_type": "code",
      "source": [
        "generated_images, latent_points_to_plot = generate_images(vae, num_images_to_generate)\n",
        "\n",
        "# Display the generated images\n",
        "import matplotlib.pyplot as plt\n",
        "\n",
        "plt.figure(figsize=(10, 2))\n",
        "for i in range(num_images_to_generate):\n",
        "    plt.subplot(1, num_images_to_generate, i+1)\n",
        "    plt.imshow(generated_images[i].reshape(28, 28), cmap='gray')\n",
        "    plt.axis('off')\n",
        "plt.show()"
      ],
      "metadata": {
        "colab": {
          "base_uri": "https://localhost:8080/",
          "height": 119
        },
        "id": "96CIOxQtvGi7",
        "outputId": "98b35f7a-fd4b-4e37-d2ef-7ee7e796ab70"
      },
      "execution_count": null,
      "outputs": [
        {
          "output_type": "stream",
          "name": "stdout",
          "text": [
            "1/1 [==============================] - 0s 20ms/step\n"
          ]
        },
        {
          "output_type": "display_data",
          "data": {
            "text/plain": [
              "<Figure size 1000x200 with 10 Axes>"
            ],
            "image/png": "[encoded data removed]"
          },
          "metadata": {}
        }
      ]
    },
    {
      "cell_type": "code",
      "source": [
        "plt.figure(figsize=(5, 5))\n",
        "plt.scatter(latent_points_to_plot[:,0], latent_points_to_plot[:,1], cmap='brg')\n",
        "plt.show()"
      ],
      "metadata": {
        "colab": {
          "base_uri": "https://localhost:8080/",
          "height": 480
        },
        "id": "ira_7U2V0BGd",
        "outputId": "25b8c235-9bd2-4eb3-f082-20e49ade9fa5"
      },
      "execution_count": null,
      "outputs": [
        {
          "output_type": "stream",
          "name": "stderr",
          "text": [
            "<ipython-input-62-5198f9b65a97>:2: UserWarning: No data for colormapping provided via 'c'. Parameters 'cmap' will be ignored\n",
            "  plt.scatter(latent_points_to_plot[:,0], latent_points_to_plot[:,1], cmap='brg')\n"
          ]
        },
        {
          "output_type": "display_data",
          "data": {
            "text/plain": [
              "<Figure size 500x500 with 1 Axes>"
            ],
            "image/png": "[encoded data removed]"
          },
          "metadata": {}
        }
      ]
    },
    {
      "cell_type": "code",
      "source": [],
      "metadata": {
        "id": "WG6sefEc8fgd"
      },
      "execution_count": null,
      "outputs": []
    }
  ]
}